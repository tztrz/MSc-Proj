{
 "cells": [
  {
   "cell_type": "code",
   "execution_count": 2,
   "metadata": {},
   "outputs": [],
   "source": [
    "import pandas as pd\n",
    "import numpy as np\n",
    "import matplotlib\n",
    "import matplotlib.pyplot as plt\n",
    "import xarray as xr"
   ]
  },
  {
   "cell_type": "code",
   "execution_count": 3,
   "metadata": {},
   "outputs": [],
   "source": [
    "#loading raw ukbms data\n",
    "collated_indices = pd.read_csv('ukbms2020csv/ukbmscollatedindices2020.csv', encoding='cp1252')\n",
    "phenology = pd.read_csv('ukbms2020csv/ukbmsphenology2020.csv', encoding='cp1252')\n",
    "site_indices = pd.read_csv('ukbms2020csv/ukbmssiteindices2020.csv',encoding='cp1252')\n",
    "site_locationdata = pd.read_csv('ukbms2020csv/ukbmssitelocationdata2020.csv',encoding='cp1252')\n",
    "species_trends = pd.read_csv('ukbms2020csv/ukbmsspeciestrends2020.csv',encoding='cp1252')"
   ]
  },
  {
   "cell_type": "code",
   "execution_count": 4,
   "metadata": {},
   "outputs": [],
   "source": [
    "#loading raw haduk 5km grid data\n",
    "#airtemp_min = xr.open_dataset('haduk5km/tasmin_hadukgrid_uk_5km_mon-20y_198101-200012.nc')"
   ]
  },
  {
   "cell_type": "code",
   "execution_count": 5,
   "metadata": {},
   "outputs": [],
   "source": [
    "#airtemp_min_df = airtemp_min.to_dataframe()\n",
    "mean_ann_temp = pd.read_csv('meanannualairtemp.csv')"
   ]
  }
 ],
 "metadata": {
  "kernelspec": {
   "display_name": "Python 3.9.7 64-bit",
   "language": "python",
   "name": "python3"
  },
  "language_info": {
   "codemirror_mode": {
    "name": "ipython",
    "version": 3
   },
   "file_extension": ".py",
   "mimetype": "text/x-python",
   "name": "python",
   "nbconvert_exporter": "python",
   "pygments_lexer": "ipython3",
   "version": "3.9.7"
  },
  "orig_nbformat": 4,
  "vscode": {
   "interpreter": {
    "hash": "aee8b7b246df8f9039afb4144a1f6fd8d2ca17a180786b69acc140d282b71a49"
   }
  }
 },
 "nbformat": 4,
 "nbformat_minor": 2
}
