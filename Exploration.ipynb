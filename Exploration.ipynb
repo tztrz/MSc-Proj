{
 "cells": [
  {
   "cell_type": "code",
   "execution_count": 15,
   "metadata": {},
   "outputs": [],
   "source": [
    "import pandas as pd\n",
    "import numpy as np\n",
    "import matplotlib\n",
    "import matplotlib.pyplot as plt\n",
    "import netCDF4 as nc"
   ]
  },
  {
   "cell_type": "code",
   "execution_count": 16,
   "metadata": {},
   "outputs": [],
   "source": [
    "#loading raw ukbms data\n",
    "collated_indices = pd.read_csv('ukbms2020csv/ukbmscollatedindices2020.csv', encoding='cp1252')\n",
    "phenology = pd.read_csv('ukbms2020csv/ukbmsphenology2020.csv', encoding='cp1252')\n",
    "site_indices = pd.read_csv('ukbms2020csv/ukbmssiteindices2020.csv',encoding='cp1252')\n",
    "site_locationdata = pd.read_csv('ukbms2020csv/ukbmssitelocationdata2020.csv',encoding='cp1252')\n",
    "species_trends = pd.read_csv('ukbms2020csv/ukbmsspeciestrends2020.csv',encoding='cp1252')"
   ]
  },
  {
   "cell_type": "code",
   "execution_count": 17,
   "metadata": {},
   "outputs": [],
   "source": [
    "#loading raw haduk 5km grid data\n",
    "airtemp_min = nc.Dataset('haduk5km/tasmin_hadukgrid_uk_5km_mon-20y_198101-200012.nc','r')"
   ]
  },
  {
   "cell_type": "code",
   "execution_count": 24,
   "metadata": {},
   "outputs": [
    {
     "name": "stdout",
     "output_type": "stream",
     "text": [
      "dict_keys(['tasmin', 'transverse_mercator', 'time', 'time_bnds', 'projection_y_coordinate', 'projection_y_coordinate_bnds', 'projection_x_coordinate', 'projection_x_coordinate_bnds', 'latitude', 'longitude', 'month_number'])\n",
      "<class 'netCDF4._netCDF4.Dataset'>\n",
      "root group (NETCDF4 data model, file format HDF5):\n",
      "    comment: Monthly resolution gridded climate observations\n",
      "    creation_date: 2021-07-13T09:08:34\n",
      "    frequency: mon-20y\n",
      "    institution: Met Office\n",
      "    lta_period: 1981-2000\n",
      "    references: doi: 10.1002/joc.1161\n",
      "    short_name: monthly_mintemp_climatology\n",
      "    source: HadUK-Grid_v1.0.3.0\n",
      "    title: Gridded surface climate observations data for the UK\n",
      "    version: v20210712\n",
      "    Conventions: CF-1.7\n",
      "    dimensions(sizes): time(12), projection_y_coordinate(290), projection_x_coordinate(180), bnds(2)\n",
      "    variables(dimensions): float64 tasmin(time, projection_y_coordinate, projection_x_coordinate), int32 transverse_mercator(), float64 time(time), float64 time_bnds(time, bnds), float64 projection_y_coordinate(projection_y_coordinate), float64 projection_y_coordinate_bnds(projection_y_coordinate, bnds), float64 projection_x_coordinate(projection_x_coordinate), float64 projection_x_coordinate_bnds(projection_x_coordinate, bnds), float64 latitude(projection_y_coordinate, projection_x_coordinate), float64 longitude(projection_y_coordinate, projection_x_coordinate), int64 month_number(time)\n",
      "    groups: \n",
      "<class 'netCDF4._netCDF4.Variable'>\n",
      "float64 tasmin(time, projection_y_coordinate, projection_x_coordinate)\n",
      "    _FillValue: 1e+20\n",
      "    standard_name: air_temperature\n",
      "    long_name: Minimum air temperature\n",
      "    units: degC\n",
      "    description: Minimum air temperature\n",
      "    label_units: C\n",
      "    level: 1.5m\n",
      "    plot_label: Minimum air temperature at 1.5m (C)\n",
      "    cell_methods: time: minimum within days time: mean over days time: mean over years\n",
      "    grid_mapping: transverse_mercator\n",
      "    coordinates: latitude longitude month_number\n",
      "unlimited dimensions: \n",
      "current shape = (12, 290, 180)\n",
      "filling on\n"
     ]
    }
   ],
   "source": [
    "print(airtemp_min.variables.keys())\n",
    "print(airtemp_min)\n",
    "print(airtemp_min['tasmin'])"
   ]
  },
  {
   "cell_type": "code",
   "execution_count": null,
   "metadata": {},
   "outputs": [],
   "source": []
  }
 ],
 "metadata": {
  "kernelspec": {
   "display_name": "Python 3.9.7 64-bit",
   "language": "python",
   "name": "python3"
  },
  "language_info": {
   "codemirror_mode": {
    "name": "ipython",
    "version": 3
   },
   "file_extension": ".py",
   "mimetype": "text/x-python",
   "name": "python",
   "nbconvert_exporter": "python",
   "pygments_lexer": "ipython3",
   "version": "3.9.7"
  },
  "orig_nbformat": 4,
  "vscode": {
   "interpreter": {
    "hash": "aee8b7b246df8f9039afb4144a1f6fd8d2ca17a180786b69acc140d282b71a49"
   }
  }
 },
 "nbformat": 4,
 "nbformat_minor": 2
}
