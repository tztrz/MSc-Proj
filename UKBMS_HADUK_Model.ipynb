{
 "cells": [
  {
   "cell_type": "code",
   "execution_count": 176,
   "metadata": {},
   "outputs": [],
   "source": [
    "import pandas as pd\n",
    "from sklearn.linear_model import LinearRegression\n",
    "from sklearn.model_selection import train_test_split, GridSearchCV\n",
    "from sklearn import metrics\n",
    "from sklearn import tree\n",
    "from scipy.stats import norm,skew,boxcox\n",
    "import matplotlib.pyplot as plt\n",
    "import seaborn as sns \n",
    "import numpy as np"
   ]
  },
  {
   "cell_type": "code",
   "execution_count": 177,
   "metadata": {},
   "outputs": [
    {
     "data": {
      "text/html": [
       "<div>\n",
       "<style scoped>\n",
       "    .dataframe tbody tr th:only-of-type {\n",
       "        vertical-align: middle;\n",
       "    }\n",
       "\n",
       "    .dataframe tbody tr th {\n",
       "        vertical-align: top;\n",
       "    }\n",
       "\n",
       "    .dataframe thead th {\n",
       "        text-align: right;\n",
       "    }\n",
       "</style>\n",
       "<table border=\"1\" class=\"dataframe\">\n",
       "  <thead>\n",
       "    <tr style=\"text-align: right;\">\n",
       "      <th></th>\n",
       "      <th>Site Number</th>\n",
       "      <th>YEAR</th>\n",
       "      <th>SPECIES RICHNESS</th>\n",
       "      <th>TOTAL SITE INDEX</th>\n",
       "      <th>COUNTRY</th>\n",
       "      <th>Easting</th>\n",
       "      <th>Northing</th>\n",
       "      <th>sun</th>\n",
       "      <th>average temp</th>\n",
       "      <th>rainfall</th>\n",
       "      <th>relative humidity</th>\n",
       "      <th>Simpsons Index</th>\n",
       "      <th>Diversity</th>\n",
       "      <th>latitude</th>\n",
       "      <th>longitude</th>\n",
       "    </tr>\n",
       "  </thead>\n",
       "  <tbody>\n",
       "    <tr>\n",
       "      <th>0</th>\n",
       "      <td>1</td>\n",
       "      <td>1976</td>\n",
       "      <td>27</td>\n",
       "      <td>798</td>\n",
       "      <td>England</td>\n",
       "      <td>521000.0</td>\n",
       "      <td>281000.0</td>\n",
       "      <td>1501.819509</td>\n",
       "      <td>9.953381</td>\n",
       "      <td>488.571987</td>\n",
       "      <td>81.285496</td>\n",
       "      <td>0.779181</td>\n",
       "      <td>High</td>\n",
       "      <td>52.413625</td>\n",
       "      <td>-0.222413</td>\n",
       "    </tr>\n",
       "    <tr>\n",
       "      <th>1</th>\n",
       "      <td>1</td>\n",
       "      <td>1977</td>\n",
       "      <td>28</td>\n",
       "      <td>413</td>\n",
       "      <td>England</td>\n",
       "      <td>521000.0</td>\n",
       "      <td>281000.0</td>\n",
       "      <td>1343.662376</td>\n",
       "      <td>9.526488</td>\n",
       "      <td>494.270350</td>\n",
       "      <td>83.330676</td>\n",
       "      <td>0.738111</td>\n",
       "      <td>High</td>\n",
       "      <td>52.413625</td>\n",
       "      <td>-0.222413</td>\n",
       "    </tr>\n",
       "    <tr>\n",
       "      <th>2</th>\n",
       "      <td>1</td>\n",
       "      <td>1978</td>\n",
       "      <td>27</td>\n",
       "      <td>857</td>\n",
       "      <td>England</td>\n",
       "      <td>521000.0</td>\n",
       "      <td>281000.0</td>\n",
       "      <td>1288.404486</td>\n",
       "      <td>9.407102</td>\n",
       "      <td>523.350323</td>\n",
       "      <td>84.013799</td>\n",
       "      <td>0.801127</td>\n",
       "      <td>High</td>\n",
       "      <td>52.413625</td>\n",
       "      <td>-0.222413</td>\n",
       "    </tr>\n",
       "    <tr>\n",
       "      <th>3</th>\n",
       "      <td>1</td>\n",
       "      <td>1979</td>\n",
       "      <td>27</td>\n",
       "      <td>825</td>\n",
       "      <td>England</td>\n",
       "      <td>521000.0</td>\n",
       "      <td>281000.0</td>\n",
       "      <td>1377.842541</td>\n",
       "      <td>9.009214</td>\n",
       "      <td>560.583337</td>\n",
       "      <td>83.049021</td>\n",
       "      <td>0.827729</td>\n",
       "      <td>High</td>\n",
       "      <td>52.413625</td>\n",
       "      <td>-0.222413</td>\n",
       "    </tr>\n",
       "    <tr>\n",
       "      <th>4</th>\n",
       "      <td>1</td>\n",
       "      <td>1980</td>\n",
       "      <td>27</td>\n",
       "      <td>911</td>\n",
       "      <td>England</td>\n",
       "      <td>521000.0</td>\n",
       "      <td>281000.0</td>\n",
       "      <td>1377.842541</td>\n",
       "      <td>9.009214</td>\n",
       "      <td>636.268119</td>\n",
       "      <td>83.049021</td>\n",
       "      <td>0.827968</td>\n",
       "      <td>High</td>\n",
       "      <td>52.413625</td>\n",
       "      <td>-0.222413</td>\n",
       "    </tr>\n",
       "    <tr>\n",
       "      <th>...</th>\n",
       "      <td>...</td>\n",
       "      <td>...</td>\n",
       "      <td>...</td>\n",
       "      <td>...</td>\n",
       "      <td>...</td>\n",
       "      <td>...</td>\n",
       "      <td>...</td>\n",
       "      <td>...</td>\n",
       "      <td>...</td>\n",
       "      <td>...</td>\n",
       "      <td>...</td>\n",
       "      <td>...</td>\n",
       "      <td>...</td>\n",
       "      <td>...</td>\n",
       "      <td>...</td>\n",
       "    </tr>\n",
       "    <tr>\n",
       "      <th>24553</th>\n",
       "      <td>5706</td>\n",
       "      <td>2020</td>\n",
       "      <td>15</td>\n",
       "      <td>796</td>\n",
       "      <td>England</td>\n",
       "      <td>420800.0</td>\n",
       "      <td>376000.0</td>\n",
       "      <td>1486.724707</td>\n",
       "      <td>9.134446</td>\n",
       "      <td>1264.091079</td>\n",
       "      <td>83.358684</td>\n",
       "      <td>0.848219</td>\n",
       "      <td>High</td>\n",
       "      <td>53.280572</td>\n",
       "      <td>-1.689506</td>\n",
       "    </tr>\n",
       "    <tr>\n",
       "      <th>24554</th>\n",
       "      <td>5707</td>\n",
       "      <td>2020</td>\n",
       "      <td>14</td>\n",
       "      <td>3070</td>\n",
       "      <td>England</td>\n",
       "      <td>406700.0</td>\n",
       "      <td>371200.0</td>\n",
       "      <td>1382.917646</td>\n",
       "      <td>8.727352</td>\n",
       "      <td>1713.559597</td>\n",
       "      <td>83.611149</td>\n",
       "      <td>0.794148</td>\n",
       "      <td>High</td>\n",
       "      <td>53.237789</td>\n",
       "      <td>-1.901073</td>\n",
       "    </tr>\n",
       "    <tr>\n",
       "      <th>24555</th>\n",
       "      <td>5708</td>\n",
       "      <td>2020</td>\n",
       "      <td>13</td>\n",
       "      <td>1507</td>\n",
       "      <td>England</td>\n",
       "      <td>427200.0</td>\n",
       "      <td>315700.0</td>\n",
       "      <td>1557.146589</td>\n",
       "      <td>10.361915</td>\n",
       "      <td>934.172339</td>\n",
       "      <td>81.763461</td>\n",
       "      <td>0.854101</td>\n",
       "      <td>High</td>\n",
       "      <td>52.738252</td>\n",
       "      <td>-1.598579</td>\n",
       "    </tr>\n",
       "    <tr>\n",
       "      <th>24556</th>\n",
       "      <td>5709</td>\n",
       "      <td>2020</td>\n",
       "      <td>18</td>\n",
       "      <td>1343</td>\n",
       "      <td>England</td>\n",
       "      <td>427800.0</td>\n",
       "      <td>316800.0</td>\n",
       "      <td>1557.146589</td>\n",
       "      <td>10.361915</td>\n",
       "      <td>934.172339</td>\n",
       "      <td>81.763461</td>\n",
       "      <td>0.887389</td>\n",
       "      <td>High</td>\n",
       "      <td>52.748110</td>\n",
       "      <td>-1.589600</td>\n",
       "    </tr>\n",
       "    <tr>\n",
       "      <th>24557</th>\n",
       "      <td>9002</td>\n",
       "      <td>2002</td>\n",
       "      <td>3</td>\n",
       "      <td>51</td>\n",
       "      <td>England</td>\n",
       "      <td>248400.0</td>\n",
       "      <td>70300.0</td>\n",
       "      <td>1419.537168</td>\n",
       "      <td>10.780422</td>\n",
       "      <td>1205.736074</td>\n",
       "      <td>85.625346</td>\n",
       "      <td>0.580392</td>\n",
       "      <td>Medium</td>\n",
       "      <td>50.512809</td>\n",
       "      <td>-4.139556</td>\n",
       "    </tr>\n",
       "  </tbody>\n",
       "</table>\n",
       "<p>24558 rows × 15 columns</p>\n",
       "</div>"
      ],
      "text/plain": [
       "       Site Number  YEAR  SPECIES RICHNESS  TOTAL SITE INDEX  COUNTRY  \\\n",
       "0                1  1976                27               798  England   \n",
       "1                1  1977                28               413  England   \n",
       "2                1  1978                27               857  England   \n",
       "3                1  1979                27               825  England   \n",
       "4                1  1980                27               911  England   \n",
       "...            ...   ...               ...               ...      ...   \n",
       "24553         5706  2020                15               796  England   \n",
       "24554         5707  2020                14              3070  England   \n",
       "24555         5708  2020                13              1507  England   \n",
       "24556         5709  2020                18              1343  England   \n",
       "24557         9002  2002                 3                51  England   \n",
       "\n",
       "        Easting  Northing          sun  average temp     rainfall  \\\n",
       "0      521000.0  281000.0  1501.819509      9.953381   488.571987   \n",
       "1      521000.0  281000.0  1343.662376      9.526488   494.270350   \n",
       "2      521000.0  281000.0  1288.404486      9.407102   523.350323   \n",
       "3      521000.0  281000.0  1377.842541      9.009214   560.583337   \n",
       "4      521000.0  281000.0  1377.842541      9.009214   636.268119   \n",
       "...         ...       ...          ...           ...          ...   \n",
       "24553  420800.0  376000.0  1486.724707      9.134446  1264.091079   \n",
       "24554  406700.0  371200.0  1382.917646      8.727352  1713.559597   \n",
       "24555  427200.0  315700.0  1557.146589     10.361915   934.172339   \n",
       "24556  427800.0  316800.0  1557.146589     10.361915   934.172339   \n",
       "24557  248400.0   70300.0  1419.537168     10.780422  1205.736074   \n",
       "\n",
       "       relative humidity  Simpsons Index Diversity   latitude  longitude  \n",
       "0              81.285496        0.779181      High  52.413625  -0.222413  \n",
       "1              83.330676        0.738111      High  52.413625  -0.222413  \n",
       "2              84.013799        0.801127      High  52.413625  -0.222413  \n",
       "3              83.049021        0.827729      High  52.413625  -0.222413  \n",
       "4              83.049021        0.827968      High  52.413625  -0.222413  \n",
       "...                  ...             ...       ...        ...        ...  \n",
       "24553          83.358684        0.848219      High  53.280572  -1.689506  \n",
       "24554          83.611149        0.794148      High  53.237789  -1.901073  \n",
       "24555          81.763461        0.854101      High  52.738252  -1.598579  \n",
       "24556          81.763461        0.887389      High  52.748110  -1.589600  \n",
       "24557          85.625346        0.580392    Medium  50.512809  -4.139556  \n",
       "\n",
       "[24558 rows x 15 columns]"
      ]
     },
     "execution_count": 177,
     "metadata": {},
     "output_type": "execute_result"
    }
   ],
   "source": [
    "#loading intermediate dataset ukbms and haduk, created in  HADUK_intermediate.py and UKBMS_HADUK_Exploration.ipynb\n",
    "df = pd.read_csv('BioD_year_site_latlong.csv')\n",
    "df.drop(columns=df.columns[0], inplace = True)\n",
    "df"
   ]
  },
  {
   "cell_type": "markdown",
   "metadata": {},
   "source": [
    "Linear Regression:"
   ]
  },
  {
   "cell_type": "code",
   "execution_count": 178,
   "metadata": {},
   "outputs": [],
   "source": [
    "x = df[['sun','average temp','rainfall','relative humidity']]\n",
    "y= df[['Simpsons Index']]\n",
    "x_train,x_test,y_train,y_test = train_test_split(x,y,test_size=0.3) #split into training and testing sets"
   ]
  },
  {
   "cell_type": "code",
   "execution_count": 179,
   "metadata": {},
   "outputs": [
    {
     "name": "stdout",
     "output_type": "stream",
     "text": [
      "[[ 8.26112203e-05  4.20395578e-04 -7.26513543e-05 -8.35283929e-03]]\n",
      "[1.31636056]\n"
     ]
    }
   ],
   "source": [
    "#training the GLM\n",
    "model = LinearRegression()\n",
    "model.fit(x_train, y_train)\n",
    "print(model.coef_)\n",
    "print(model.intercept_)"
   ]
  },
  {
   "cell_type": "code",
   "execution_count": 180,
   "metadata": {},
   "outputs": [],
   "source": [
    "preds = model.predict(x_test)"
   ]
  },
  {
   "cell_type": "code",
   "execution_count": 181,
   "metadata": {},
   "outputs": [
    {
     "data": {
      "image/png": "[encoded data removed]",
      "text/plain": [
       "<Figure size 432x288 with 1 Axes>"
      ]
     },
     "metadata": {
      "needs_background": "light"
     },
     "output_type": "display_data"
    }
   ],
   "source": [
    "plt.scatter(y_test,preds)\n",
    "plt.show()"
   ]
  },
  {
   "cell_type": "code",
   "execution_count": 182,
   "metadata": {},
   "outputs": [
    {
     "name": "stdout",
     "output_type": "stream",
     "text": [
      "0.04905797770449026\n",
      "0.22149035578212037\n"
     ]
    }
   ],
   "source": [
    "mse = metrics.mean_squared_error(y_test,preds)\n",
    "print(mse)\n",
    "print(np.sqrt(mse))"
   ]
  },
  {
   "cell_type": "code",
   "execution_count": 183,
   "metadata": {},
   "outputs": [
    {
     "data": {
      "text/plain": [
       "<AxesSubplot:>"
      ]
     },
     "execution_count": 183,
     "metadata": {},
     "output_type": "execute_result"
    },
    {
     "data": {
      "image/png": "[encoded data removed]",
      "text/plain": [
       "<Figure size 360x360 with 2 Axes>"
      ]
     },
     "metadata": {
      "needs_background": "light"
     },
     "output_type": "display_data"
    }
   ],
   "source": [
    "corr = x_train.corr()\n",
    "plt.figure(figsize=(5,5))\n",
    "sns.heatmap(corr, cmap='coolwarm')"
   ]
  },
  {
   "cell_type": "code",
   "execution_count": 184,
   "metadata": {},
   "outputs": [
    {
     "data": {
      "image/png": "[encoded data removed]",
      "text/plain": [
       "<Figure size 432x288 with 1 Axes>"
      ]
     },
     "metadata": {
      "needs_background": "light"
     },
     "output_type": "display_data"
    },
    {
     "name": "stdout",
     "output_type": "stream",
     "text": [
      "0.04833496080001369\n",
      "0.219852133944644\n"
     ]
    }
   ],
   "source": [
    "#trying to linear regression by dropping co-occuring variable: sunshine hours\n",
    "x2 = df[['average temp','rainfall','relative humidity']]\n",
    "x_train2,x_test2,y_train2,y_test2 = train_test_split(x2,y,test_size=0.3) #split into training and testing sets\n",
    "model2 = LinearRegression()\n",
    "model2.fit(x_train2,y_train2)\n",
    "preds2 = model2.predict(x_test2)\n",
    "plt.scatter(y_test2,preds)\n",
    "plt.show()\n",
    "mse2 = metrics.mean_squared_error(y_test2,preds2)\n",
    "print(mse2)\n",
    "print(np.sqrt(mse2))"
   ]
  },
  {
   "cell_type": "code",
   "execution_count": 185,
   "metadata": {},
   "outputs": [
    {
     "name": "stdout",
     "output_type": "stream",
     "text": [
      "-1.9612755667749275\n"
     ]
    },
    {
     "data": {
      "image/png": "[encoded data removed]",
      "text/plain": [
       "<Figure size 360x360 with 1 Axes>"
      ]
     },
     "metadata": {
      "needs_background": "light"
     },
     "output_type": "display_data"
    }
   ],
   "source": [
    "sns.displot(df['Simpsons Index'])\n",
    "print(skew(df['Simpsons Index']))"
   ]
  },
  {
   "cell_type": "markdown",
   "metadata": {},
   "source": [
    "Decision Tree:\n"
   ]
  },
  {
   "cell_type": "code",
   "execution_count": 186,
   "metadata": {},
   "outputs": [
    {
     "name": "stdout",
     "output_type": "stream",
     "text": [
      "0.08211933293450394\n",
      "0.2865647098553901\n"
     ]
    }
   ],
   "source": [
    "x3 = df[['average temp','rainfall','relative humidity']]\n",
    "x_train3,x_test3,y_train3,y_test3 = train_test_split(x3,y,test_size=0.3, random_state=44) #split into training and testing sets\n",
    "model3_tree = tree.DecisionTreeRegressor()\n",
    "model3_tree.fit(x_train3,y_train3)\n",
    "preds3 = model3_tree.predict(x_test3)\n",
    "mse3 = metrics.mean_squared_error(y_test3,preds3)\n",
    "print(mse3)\n",
    "print(np.sqrt(mse3))"
   ]
  },
  {
   "cell_type": "code",
   "execution_count": 187,
   "metadata": {},
   "outputs": [
    {
     "data": {
      "text/plain": [
       "<matplotlib.collections.PathCollection at 0x7fdc3dc2c400>"
      ]
     },
     "execution_count": 187,
     "metadata": {},
     "output_type": "execute_result"
    },
    {
     "data": {
      "image/png": "[encoded data removed]",
      "text/plain": [
       "<Figure size 432x288 with 1 Axes>"
      ]
     },
     "metadata": {
      "needs_background": "light"
     },
     "output_type": "display_data"
    }
   ],
   "source": [
    "plt.scatter(y_test3,preds3)"
   ]
  },
  {
   "cell_type": "code",
   "execution_count": 188,
   "metadata": {},
   "outputs": [],
   "source": [
    "# #decision tree hyperparameter tuning\n",
    "# param_grid = {'max_depth':np. arrange(1,2,10)}\n",
    "# tree_reg = GridSearchCV(tree.DecisionTreeRegressor(),param_grid=param_grid)"
   ]
  }
 ],
 "metadata": {
  "kernelspec": {
   "display_name": "Python 3.9.7 64-bit",
   "language": "python",
   "name": "python3"
  },
  "language_info": {
   "codemirror_mode": {
    "name": "ipython",
    "version": 3
   },
   "file_extension": ".py",
   "mimetype": "text/x-python",
   "name": "python",
   "nbconvert_exporter": "python",
   "pygments_lexer": "ipython3",
   "version": "3.9.7"
  },
  "orig_nbformat": 4,
  "vscode": {
   "interpreter": {
    "hash": "aee8b7b246df8f9039afb4144a1f6fd8d2ca17a180786b69acc140d282b71a49"
   }
  }
 },
 "nbformat": 4,
 "nbformat_minor": 2
}
